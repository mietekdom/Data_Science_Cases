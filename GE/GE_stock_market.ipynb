{
  "nbformat": 4,
  "nbformat_minor": 0,
  "metadata": {
    "colab": {
      "name": "05_GE_stock_market.ipynb",
      "provenance": [],
      "collapsed_sections": [],
      "authorship_tag": "ABX9TyPS3wMKEbRRWgbzLyN9kdYl",
      "include_colab_link": true
    },
    "kernelspec": {
      "name": "python3",
      "display_name": "Python 3"
    }
  },
  "cells": [
    {
      "cell_type": "markdown",
      "metadata": {
        "id": "view-in-github",
        "colab_type": "text"
      },
      "source": [
        "<a href=\"https://colab.research.google.com/github/mietekdom/Data_Science_Cases/blob/master/GE/GE_stock_market.ipynb\" target=\"_parent\"><img src=\"https://colab.research.google.com/assets/colab-badge.svg\" alt=\"Open In Colab\"/></a>"
      ]
    },
    {
      "cell_type": "markdown",
      "metadata": {
        "id": "NQCVFa0fEGh5",
        "colab_type": "text"
      },
      "source": [
        "Import biblotek"
      ]
    },
    {
      "cell_type": "code",
      "metadata": {
        "id": "s0JEEolvDkfO",
        "colab_type": "code",
        "colab": {
          "base_uri": "https://localhost:8080/",
          "height": 52
        },
        "outputId": "b96952d3-88e5-40b4-b66c-7547d459ed8b"
      },
      "source": [
        "import pandas as pd\n",
        "import numpy as np\n",
        "print(f'Pandas: {pd.__version__}')\n",
        "print(f'Numpy: {np.__version__}')"
      ],
      "execution_count": null,
      "outputs": [
        {
          "output_type": "stream",
          "text": [
            "Pandas: 1.0.5\n",
            "Numpy: 1.18.5\n"
          ],
          "name": "stdout"
        }
      ]
    },
    {
      "cell_type": "markdown",
      "metadata": {
        "id": "dprtSYScEL_5",
        "colab_type": "text"
      },
      "source": [
        "Załadowanie danych"
      ]
    },
    {
      "cell_type": "code",
      "metadata": {
        "id": "orBZE7iEERzX",
        "colab_type": "code",
        "colab": {
          "base_uri": "https://localhost:8080/",
          "height": 260
        },
        "outputId": "9228b324-8b9d-4fe0-829f-277ba3c47572"
      },
      "source": [
        "def fetch_financial_data(company='GE'):\n",
        "    \"\"\"Pobiera dane dotyczące notowań spółek na giełdzie według symboli\n",
        "    na serwisie stooq.pl\"\"\"\n",
        "    import pandas_datareader.data as web\n",
        "    return web.DataReader(name=company, data_source='stooq')\n",
        "\n",
        "df = fetch_financial_data()\n",
        "df.info()"
      ],
      "execution_count": null,
      "outputs": [
        {
          "output_type": "stream",
          "text": [
            "/usr/local/lib/python3.6/dist-packages/pandas_datareader/compat/__init__.py:7: FutureWarning: pandas.util.testing is deprecated. Use the functions in the public API at pandas.testing instead.\n",
            "  from pandas.util.testing import assert_frame_equal\n"
          ],
          "name": "stderr"
        },
        {
          "output_type": "stream",
          "text": [
            "<class 'pandas.core.frame.DataFrame'>\n",
            "DatetimeIndex: 1258 entries, 2020-08-27 to 2015-08-31\n",
            "Data columns (total 5 columns):\n",
            " #   Column  Non-Null Count  Dtype  \n",
            "---  ------  --------------  -----  \n",
            " 0   Open    1258 non-null   float64\n",
            " 1   High    1258 non-null   float64\n",
            " 2   Low     1258 non-null   float64\n",
            " 3   Close   1258 non-null   float64\n",
            " 4   Volume  1258 non-null   int64  \n",
            "dtypes: float64(4), int64(1)\n",
            "memory usage: 59.0 KB\n"
          ],
          "name": "stdout"
        }
      ]
    },
    {
      "cell_type": "code",
      "metadata": {
        "id": "6ULM25nKEzn5",
        "colab_type": "code",
        "colab": {
          "base_uri": "https://localhost:8080/",
          "height": 455
        },
        "outputId": "91576070-1984-49ce-be71-4cb0aaaaf75f"
      },
      "source": [
        "df"
      ],
      "execution_count": null,
      "outputs": [
        {
          "output_type": "execute_result",
          "data": {
            "text/html": [
              "<div>\n",
              "<style scoped>\n",
              "    .dataframe tbody tr th:only-of-type {\n",
              "        vertical-align: middle;\n",
              "    }\n",
              "\n",
              "    .dataframe tbody tr th {\n",
              "        vertical-align: top;\n",
              "    }\n",
              "\n",
              "    .dataframe thead th {\n",
              "        text-align: right;\n",
              "    }\n",
              "</style>\n",
              "<table border=\"1\" class=\"dataframe\">\n",
              "  <thead>\n",
              "    <tr style=\"text-align: right;\">\n",
              "      <th></th>\n",
              "      <th>Open</th>\n",
              "      <th>High</th>\n",
              "      <th>Low</th>\n",
              "      <th>Close</th>\n",
              "      <th>Volume</th>\n",
              "    </tr>\n",
              "    <tr>\n",
              "      <th>Date</th>\n",
              "      <th></th>\n",
              "      <th></th>\n",
              "      <th></th>\n",
              "      <th></th>\n",
              "      <th></th>\n",
              "    </tr>\n",
              "  </thead>\n",
              "  <tbody>\n",
              "    <tr>\n",
              "      <th>2020-08-27</th>\n",
              "      <td>6.520</td>\n",
              "      <td>6.630</td>\n",
              "      <td>6.450</td>\n",
              "      <td>6.480</td>\n",
              "      <td>73387919</td>\n",
              "    </tr>\n",
              "    <tr>\n",
              "      <th>2020-08-26</th>\n",
              "      <td>6.620</td>\n",
              "      <td>6.620</td>\n",
              "      <td>6.440</td>\n",
              "      <td>6.480</td>\n",
              "      <td>57303986</td>\n",
              "    </tr>\n",
              "    <tr>\n",
              "      <th>2020-08-25</th>\n",
              "      <td>6.650</td>\n",
              "      <td>6.700</td>\n",
              "      <td>6.480</td>\n",
              "      <td>6.590</td>\n",
              "      <td>69449105</td>\n",
              "    </tr>\n",
              "    <tr>\n",
              "      <th>2020-08-24</th>\n",
              "      <td>6.350</td>\n",
              "      <td>6.640</td>\n",
              "      <td>6.300</td>\n",
              "      <td>6.630</td>\n",
              "      <td>102785415</td>\n",
              "    </tr>\n",
              "    <tr>\n",
              "      <th>2020-08-21</th>\n",
              "      <td>6.250</td>\n",
              "      <td>6.380</td>\n",
              "      <td>6.230</td>\n",
              "      <td>6.310</td>\n",
              "      <td>59851459</td>\n",
              "    </tr>\n",
              "    <tr>\n",
              "      <th>...</th>\n",
              "      <td>...</td>\n",
              "      <td>...</td>\n",
              "      <td>...</td>\n",
              "      <td>...</td>\n",
              "      <td>...</td>\n",
              "    </tr>\n",
              "    <tr>\n",
              "      <th>2015-09-04</th>\n",
              "      <td>21.560</td>\n",
              "      <td>21.560</td>\n",
              "      <td>21.265</td>\n",
              "      <td>21.397</td>\n",
              "      <td>39960825</td>\n",
              "    </tr>\n",
              "    <tr>\n",
              "      <th>2015-09-03</th>\n",
              "      <td>22.074</td>\n",
              "      <td>22.244</td>\n",
              "      <td>21.746</td>\n",
              "      <td>21.852</td>\n",
              "      <td>37646287</td>\n",
              "    </tr>\n",
              "    <tr>\n",
              "      <th>2015-09-02</th>\n",
              "      <td>21.523</td>\n",
              "      <td>21.915</td>\n",
              "      <td>21.246</td>\n",
              "      <td>21.907</td>\n",
              "      <td>56619445</td>\n",
              "    </tr>\n",
              "    <tr>\n",
              "      <th>2015-09-01</th>\n",
              "      <td>21.595</td>\n",
              "      <td>21.717</td>\n",
              "      <td>21.113</td>\n",
              "      <td>21.291</td>\n",
              "      <td>73290061</td>\n",
              "    </tr>\n",
              "    <tr>\n",
              "      <th>2015-08-31</th>\n",
              "      <td>22.272</td>\n",
              "      <td>22.272</td>\n",
              "      <td>21.915</td>\n",
              "      <td>22.129</td>\n",
              "      <td>41506958</td>\n",
              "    </tr>\n",
              "  </tbody>\n",
              "</table>\n",
              "<p>1258 rows × 5 columns</p>\n",
              "</div>"
            ],
            "text/plain": [
              "              Open    High     Low   Close     Volume\n",
              "Date                                                 \n",
              "2020-08-27   6.520   6.630   6.450   6.480   73387919\n",
              "2020-08-26   6.620   6.620   6.440   6.480   57303986\n",
              "2020-08-25   6.650   6.700   6.480   6.590   69449105\n",
              "2020-08-24   6.350   6.640   6.300   6.630  102785415\n",
              "2020-08-21   6.250   6.380   6.230   6.310   59851459\n",
              "...            ...     ...     ...     ...        ...\n",
              "2015-09-04  21.560  21.560  21.265  21.397   39960825\n",
              "2015-09-03  22.074  22.244  21.746  21.852   37646287\n",
              "2015-09-02  21.523  21.915  21.246  21.907   56619445\n",
              "2015-09-01  21.595  21.717  21.113  21.291   73290061\n",
              "2015-08-31  22.272  22.272  21.915  22.129   41506958\n",
              "\n",
              "[1258 rows x 5 columns]"
            ]
          },
          "metadata": {
            "tags": []
          },
          "execution_count": 3
        }
      ]
    },
    {
      "cell_type": "code",
      "metadata": {
        "id": "XgGG02QcGK_Y",
        "colab_type": "code",
        "colab": {
          "base_uri": "https://localhost:8080/",
          "height": 394
        },
        "outputId": "a0628b61-2ce9-4635-8c4e-082b5e21e13d"
      },
      "source": [
        "df.head(10) # zwraca pierwsze 10 wierszy"
      ],
      "execution_count": null,
      "outputs": [
        {
          "output_type": "execute_result",
          "data": {
            "text/html": [
              "<div>\n",
              "<style scoped>\n",
              "    .dataframe tbody tr th:only-of-type {\n",
              "        vertical-align: middle;\n",
              "    }\n",
              "\n",
              "    .dataframe tbody tr th {\n",
              "        vertical-align: top;\n",
              "    }\n",
              "\n",
              "    .dataframe thead th {\n",
              "        text-align: right;\n",
              "    }\n",
              "</style>\n",
              "<table border=\"1\" class=\"dataframe\">\n",
              "  <thead>\n",
              "    <tr style=\"text-align: right;\">\n",
              "      <th></th>\n",
              "      <th>Open</th>\n",
              "      <th>High</th>\n",
              "      <th>Low</th>\n",
              "      <th>Close</th>\n",
              "      <th>Volume</th>\n",
              "    </tr>\n",
              "    <tr>\n",
              "      <th>Date</th>\n",
              "      <th></th>\n",
              "      <th></th>\n",
              "      <th></th>\n",
              "      <th></th>\n",
              "      <th></th>\n",
              "    </tr>\n",
              "  </thead>\n",
              "  <tbody>\n",
              "    <tr>\n",
              "      <th>2020-08-27</th>\n",
              "      <td>6.52</td>\n",
              "      <td>6.6300</td>\n",
              "      <td>6.45</td>\n",
              "      <td>6.48</td>\n",
              "      <td>73387919</td>\n",
              "    </tr>\n",
              "    <tr>\n",
              "      <th>2020-08-26</th>\n",
              "      <td>6.62</td>\n",
              "      <td>6.6200</td>\n",
              "      <td>6.44</td>\n",
              "      <td>6.48</td>\n",
              "      <td>57303986</td>\n",
              "    </tr>\n",
              "    <tr>\n",
              "      <th>2020-08-25</th>\n",
              "      <td>6.65</td>\n",
              "      <td>6.7000</td>\n",
              "      <td>6.48</td>\n",
              "      <td>6.59</td>\n",
              "      <td>69449105</td>\n",
              "    </tr>\n",
              "    <tr>\n",
              "      <th>2020-08-24</th>\n",
              "      <td>6.35</td>\n",
              "      <td>6.6400</td>\n",
              "      <td>6.30</td>\n",
              "      <td>6.63</td>\n",
              "      <td>102785415</td>\n",
              "    </tr>\n",
              "    <tr>\n",
              "      <th>2020-08-21</th>\n",
              "      <td>6.25</td>\n",
              "      <td>6.3800</td>\n",
              "      <td>6.23</td>\n",
              "      <td>6.31</td>\n",
              "      <td>59851459</td>\n",
              "    </tr>\n",
              "    <tr>\n",
              "      <th>2020-08-20</th>\n",
              "      <td>6.33</td>\n",
              "      <td>6.3769</td>\n",
              "      <td>6.21</td>\n",
              "      <td>6.27</td>\n",
              "      <td>63763962</td>\n",
              "    </tr>\n",
              "    <tr>\n",
              "      <th>2020-08-19</th>\n",
              "      <td>6.47</td>\n",
              "      <td>6.5700</td>\n",
              "      <td>6.35</td>\n",
              "      <td>6.38</td>\n",
              "      <td>54361951</td>\n",
              "    </tr>\n",
              "    <tr>\n",
              "      <th>2020-08-18</th>\n",
              "      <td>6.49</td>\n",
              "      <td>6.5700</td>\n",
              "      <td>6.41</td>\n",
              "      <td>6.44</td>\n",
              "      <td>42686043</td>\n",
              "    </tr>\n",
              "    <tr>\n",
              "      <th>2020-08-17</th>\n",
              "      <td>6.67</td>\n",
              "      <td>6.6900</td>\n",
              "      <td>6.45</td>\n",
              "      <td>6.47</td>\n",
              "      <td>59029425</td>\n",
              "    </tr>\n",
              "    <tr>\n",
              "      <th>2020-08-14</th>\n",
              "      <td>6.54</td>\n",
              "      <td>6.7200</td>\n",
              "      <td>6.47</td>\n",
              "      <td>6.66</td>\n",
              "      <td>50397190</td>\n",
              "    </tr>\n",
              "  </tbody>\n",
              "</table>\n",
              "</div>"
            ],
            "text/plain": [
              "            Open    High   Low  Close     Volume\n",
              "Date                                            \n",
              "2020-08-27  6.52  6.6300  6.45   6.48   73387919\n",
              "2020-08-26  6.62  6.6200  6.44   6.48   57303986\n",
              "2020-08-25  6.65  6.7000  6.48   6.59   69449105\n",
              "2020-08-24  6.35  6.6400  6.30   6.63  102785415\n",
              "2020-08-21  6.25  6.3800  6.23   6.31   59851459\n",
              "2020-08-20  6.33  6.3769  6.21   6.27   63763962\n",
              "2020-08-19  6.47  6.5700  6.35   6.38   54361951\n",
              "2020-08-18  6.49  6.5700  6.41   6.44   42686043\n",
              "2020-08-17  6.67  6.6900  6.45   6.47   59029425\n",
              "2020-08-14  6.54  6.7200  6.47   6.66   50397190"
            ]
          },
          "metadata": {
            "tags": []
          },
          "execution_count": 4
        }
      ]
    },
    {
      "cell_type": "code",
      "metadata": {
        "id": "fnKxiCI5Gbqt",
        "colab_type": "code",
        "colab": {
          "base_uri": "https://localhost:8080/",
          "height": 34
        },
        "outputId": "170386a2-10dc-422a-9716-24117daf3ace"
      },
      "source": [
        "df.columns # nazwy kolumn"
      ],
      "execution_count": null,
      "outputs": [
        {
          "output_type": "execute_result",
          "data": {
            "text/plain": [
              "Index(['Open', 'High', 'Low', 'Close', 'Volume'], dtype='object')"
            ]
          },
          "metadata": {
            "tags": []
          },
          "execution_count": 5
        }
      ]
    },
    {
      "cell_type": "code",
      "metadata": {
        "id": "Lrb9EYIeGhdj",
        "colab_type": "code",
        "colab": {
          "base_uri": "https://localhost:8080/",
          "height": 34
        },
        "outputId": "851c1388-15fb-4383-f6f9-ab32efe4accf"
      },
      "source": [
        "df.columns = [col.lower() for col in df.columns] # zmiana liter na małe\n",
        "df.columns"
      ],
      "execution_count": null,
      "outputs": [
        {
          "output_type": "execute_result",
          "data": {
            "text/plain": [
              "Index(['open', 'high', 'low', 'close', 'volume'], dtype='object')"
            ]
          },
          "metadata": {
            "tags": []
          },
          "execution_count": 6
        }
      ]
    },
    {
      "cell_type": "code",
      "metadata": {
        "id": "qdYPyuEVG3ZW",
        "colab_type": "code",
        "colab": {
          "base_uri": "https://localhost:8080/",
          "height": 300
        },
        "outputId": "941cbf25-5e69-44a9-e65e-5e5a5f2edb65"
      },
      "source": [
        "df.describe() # wyswietla statystyki "
      ],
      "execution_count": null,
      "outputs": [
        {
          "output_type": "execute_result",
          "data": {
            "text/html": [
              "<div>\n",
              "<style scoped>\n",
              "    .dataframe tbody tr th:only-of-type {\n",
              "        vertical-align: middle;\n",
              "    }\n",
              "\n",
              "    .dataframe tbody tr th {\n",
              "        vertical-align: top;\n",
              "    }\n",
              "\n",
              "    .dataframe thead th {\n",
              "        text-align: right;\n",
              "    }\n",
              "</style>\n",
              "<table border=\"1\" class=\"dataframe\">\n",
              "  <thead>\n",
              "    <tr style=\"text-align: right;\">\n",
              "      <th></th>\n",
              "      <th>open</th>\n",
              "      <th>high</th>\n",
              "      <th>low</th>\n",
              "      <th>close</th>\n",
              "      <th>volume</th>\n",
              "    </tr>\n",
              "  </thead>\n",
              "  <tbody>\n",
              "    <tr>\n",
              "      <th>count</th>\n",
              "      <td>1258.000000</td>\n",
              "      <td>1258.000000</td>\n",
              "      <td>1258.000000</td>\n",
              "      <td>1258.000000</td>\n",
              "      <td>1.258000e+03</td>\n",
              "    </tr>\n",
              "    <tr>\n",
              "      <th>mean</th>\n",
              "      <td>17.809093</td>\n",
              "      <td>17.986614</td>\n",
              "      <td>17.627366</td>\n",
              "      <td>17.800361</td>\n",
              "      <td>6.833135e+07</td>\n",
              "    </tr>\n",
              "    <tr>\n",
              "      <th>std</th>\n",
              "      <td>8.334761</td>\n",
              "      <td>8.350674</td>\n",
              "      <td>8.336925</td>\n",
              "      <td>8.350018</td>\n",
              "      <td>4.877264e+07</td>\n",
              "    </tr>\n",
              "    <tr>\n",
              "      <th>min</th>\n",
              "      <td>5.601600</td>\n",
              "      <td>5.651500</td>\n",
              "      <td>5.471800</td>\n",
              "      <td>5.481800</td>\n",
              "      <td>1.418883e+07</td>\n",
              "    </tr>\n",
              "    <tr>\n",
              "      <th>25%</th>\n",
              "      <td>10.055250</td>\n",
              "      <td>10.267250</td>\n",
              "      <td>9.935000</td>\n",
              "      <td>10.065000</td>\n",
              "      <td>3.716697e+07</td>\n",
              "    </tr>\n",
              "    <tr>\n",
              "      <th>50%</th>\n",
              "      <td>14.342500</td>\n",
              "      <td>14.561500</td>\n",
              "      <td>14.139000</td>\n",
              "      <td>14.314500</td>\n",
              "      <td>5.411398e+07</td>\n",
              "    </tr>\n",
              "    <tr>\n",
              "      <th>75%</th>\n",
              "      <td>27.049000</td>\n",
              "      <td>27.328000</td>\n",
              "      <td>26.877000</td>\n",
              "      <td>27.103000</td>\n",
              "      <td>8.321889e+07</td>\n",
              "    </tr>\n",
              "    <tr>\n",
              "      <th>max</th>\n",
              "      <td>30.340000</td>\n",
              "      <td>30.375000</td>\n",
              "      <td>30.135000</td>\n",
              "      <td>30.311000</td>\n",
              "      <td>4.794930e+08</td>\n",
              "    </tr>\n",
              "  </tbody>\n",
              "</table>\n",
              "</div>"
            ],
            "text/plain": [
              "              open         high          low        close        volume\n",
              "count  1258.000000  1258.000000  1258.000000  1258.000000  1.258000e+03\n",
              "mean     17.809093    17.986614    17.627366    17.800361  6.833135e+07\n",
              "std       8.334761     8.350674     8.336925     8.350018  4.877264e+07\n",
              "min       5.601600     5.651500     5.471800     5.481800  1.418883e+07\n",
              "25%      10.055250    10.267250     9.935000    10.065000  3.716697e+07\n",
              "50%      14.342500    14.561500    14.139000    14.314500  5.411398e+07\n",
              "75%      27.049000    27.328000    26.877000    27.103000  8.321889e+07\n",
              "max      30.340000    30.375000    30.135000    30.311000  4.794930e+08"
            ]
          },
          "metadata": {
            "tags": []
          },
          "execution_count": 7
        }
      ]
    },
    {
      "cell_type": "markdown",
      "metadata": {
        "id": "EVuzyUzItdZw",
        "colab_type": "text"
      },
      "source": [
        "Eksploracja danych"
      ]
    },
    {
      "cell_type": "code",
      "metadata": {
        "id": "5RS2wq-wtfuH",
        "colab_type": "code",
        "colab": {
          "base_uri": "https://localhost:8080/",
          "height": 455
        },
        "outputId": "7435a1bd-d026-4878-eb13-5c75bbd2c506"
      },
      "source": [
        "df[['open', 'close']] # wycinamy jako Data Frame"
      ],
      "execution_count": null,
      "outputs": [
        {
          "output_type": "execute_result",
          "data": {
            "text/html": [
              "<div>\n",
              "<style scoped>\n",
              "    .dataframe tbody tr th:only-of-type {\n",
              "        vertical-align: middle;\n",
              "    }\n",
              "\n",
              "    .dataframe tbody tr th {\n",
              "        vertical-align: top;\n",
              "    }\n",
              "\n",
              "    .dataframe thead th {\n",
              "        text-align: right;\n",
              "    }\n",
              "</style>\n",
              "<table border=\"1\" class=\"dataframe\">\n",
              "  <thead>\n",
              "    <tr style=\"text-align: right;\">\n",
              "      <th></th>\n",
              "      <th>open</th>\n",
              "      <th>close</th>\n",
              "    </tr>\n",
              "    <tr>\n",
              "      <th>Date</th>\n",
              "      <th></th>\n",
              "      <th></th>\n",
              "    </tr>\n",
              "  </thead>\n",
              "  <tbody>\n",
              "    <tr>\n",
              "      <th>2020-08-27</th>\n",
              "      <td>6.520</td>\n",
              "      <td>6.480</td>\n",
              "    </tr>\n",
              "    <tr>\n",
              "      <th>2020-08-26</th>\n",
              "      <td>6.620</td>\n",
              "      <td>6.480</td>\n",
              "    </tr>\n",
              "    <tr>\n",
              "      <th>2020-08-25</th>\n",
              "      <td>6.650</td>\n",
              "      <td>6.590</td>\n",
              "    </tr>\n",
              "    <tr>\n",
              "      <th>2020-08-24</th>\n",
              "      <td>6.350</td>\n",
              "      <td>6.630</td>\n",
              "    </tr>\n",
              "    <tr>\n",
              "      <th>2020-08-21</th>\n",
              "      <td>6.250</td>\n",
              "      <td>6.310</td>\n",
              "    </tr>\n",
              "    <tr>\n",
              "      <th>...</th>\n",
              "      <td>...</td>\n",
              "      <td>...</td>\n",
              "    </tr>\n",
              "    <tr>\n",
              "      <th>2015-09-04</th>\n",
              "      <td>21.560</td>\n",
              "      <td>21.397</td>\n",
              "    </tr>\n",
              "    <tr>\n",
              "      <th>2015-09-03</th>\n",
              "      <td>22.074</td>\n",
              "      <td>21.852</td>\n",
              "    </tr>\n",
              "    <tr>\n",
              "      <th>2015-09-02</th>\n",
              "      <td>21.523</td>\n",
              "      <td>21.907</td>\n",
              "    </tr>\n",
              "    <tr>\n",
              "      <th>2015-09-01</th>\n",
              "      <td>21.595</td>\n",
              "      <td>21.291</td>\n",
              "    </tr>\n",
              "    <tr>\n",
              "      <th>2015-08-31</th>\n",
              "      <td>22.272</td>\n",
              "      <td>22.129</td>\n",
              "    </tr>\n",
              "  </tbody>\n",
              "</table>\n",
              "<p>1258 rows × 2 columns</p>\n",
              "</div>"
            ],
            "text/plain": [
              "              open   close\n",
              "Date                      \n",
              "2020-08-27   6.520   6.480\n",
              "2020-08-26   6.620   6.480\n",
              "2020-08-25   6.650   6.590\n",
              "2020-08-24   6.350   6.630\n",
              "2020-08-21   6.250   6.310\n",
              "...            ...     ...\n",
              "2015-09-04  21.560  21.397\n",
              "2015-09-03  22.074  21.852\n",
              "2015-09-02  21.523  21.907\n",
              "2015-09-01  21.595  21.291\n",
              "2015-08-31  22.272  22.129\n",
              "\n",
              "[1258 rows x 2 columns]"
            ]
          },
          "metadata": {
            "tags": []
          },
          "execution_count": 10
        }
      ]
    },
    {
      "cell_type": "code",
      "metadata": {
        "id": "earGo0XBt0rx",
        "colab_type": "code",
        "colab": {
          "base_uri": "https://localhost:8080/",
          "height": 243
        },
        "outputId": "7615c813-dbe5-41f8-ed9e-e8f30a3e7f83"
      },
      "source": [
        "df.iloc[:, 0] #wycinamy pierwszą kolumnę"
      ],
      "execution_count": null,
      "outputs": [
        {
          "output_type": "execute_result",
          "data": {
            "text/plain": [
              "Date\n",
              "2020-08-27     6.520\n",
              "2020-08-26     6.620\n",
              "2020-08-25     6.650\n",
              "2020-08-24     6.350\n",
              "2020-08-21     6.250\n",
              "               ...  \n",
              "2015-09-04    21.560\n",
              "2015-09-03    22.074\n",
              "2015-09-02    21.523\n",
              "2015-09-01    21.595\n",
              "2015-08-31    22.272\n",
              "Name: open, Length: 1258, dtype: float64"
            ]
          },
          "metadata": {
            "tags": []
          },
          "execution_count": 12
        }
      ]
    },
    {
      "cell_type": "code",
      "metadata": {
        "id": "V4TvnCaEuCUF",
        "colab_type": "code",
        "colab": {
          "base_uri": "https://localhost:8080/",
          "height": 455
        },
        "outputId": "68115653-c7ca-499d-e108-e14870358d1c"
      },
      "source": [
        "df.iloc[:, [0, 3]] # wycinamy kilka kolumn"
      ],
      "execution_count": null,
      "outputs": [
        {
          "output_type": "execute_result",
          "data": {
            "text/html": [
              "<div>\n",
              "<style scoped>\n",
              "    .dataframe tbody tr th:only-of-type {\n",
              "        vertical-align: middle;\n",
              "    }\n",
              "\n",
              "    .dataframe tbody tr th {\n",
              "        vertical-align: top;\n",
              "    }\n",
              "\n",
              "    .dataframe thead th {\n",
              "        text-align: right;\n",
              "    }\n",
              "</style>\n",
              "<table border=\"1\" class=\"dataframe\">\n",
              "  <thead>\n",
              "    <tr style=\"text-align: right;\">\n",
              "      <th></th>\n",
              "      <th>open</th>\n",
              "      <th>close</th>\n",
              "    </tr>\n",
              "    <tr>\n",
              "      <th>Date</th>\n",
              "      <th></th>\n",
              "      <th></th>\n",
              "    </tr>\n",
              "  </thead>\n",
              "  <tbody>\n",
              "    <tr>\n",
              "      <th>2020-08-27</th>\n",
              "      <td>6.520</td>\n",
              "      <td>6.480</td>\n",
              "    </tr>\n",
              "    <tr>\n",
              "      <th>2020-08-26</th>\n",
              "      <td>6.620</td>\n",
              "      <td>6.480</td>\n",
              "    </tr>\n",
              "    <tr>\n",
              "      <th>2020-08-25</th>\n",
              "      <td>6.650</td>\n",
              "      <td>6.590</td>\n",
              "    </tr>\n",
              "    <tr>\n",
              "      <th>2020-08-24</th>\n",
              "      <td>6.350</td>\n",
              "      <td>6.630</td>\n",
              "    </tr>\n",
              "    <tr>\n",
              "      <th>2020-08-21</th>\n",
              "      <td>6.250</td>\n",
              "      <td>6.310</td>\n",
              "    </tr>\n",
              "    <tr>\n",
              "      <th>...</th>\n",
              "      <td>...</td>\n",
              "      <td>...</td>\n",
              "    </tr>\n",
              "    <tr>\n",
              "      <th>2015-09-04</th>\n",
              "      <td>21.560</td>\n",
              "      <td>21.397</td>\n",
              "    </tr>\n",
              "    <tr>\n",
              "      <th>2015-09-03</th>\n",
              "      <td>22.074</td>\n",
              "      <td>21.852</td>\n",
              "    </tr>\n",
              "    <tr>\n",
              "      <th>2015-09-02</th>\n",
              "      <td>21.523</td>\n",
              "      <td>21.907</td>\n",
              "    </tr>\n",
              "    <tr>\n",
              "      <th>2015-09-01</th>\n",
              "      <td>21.595</td>\n",
              "      <td>21.291</td>\n",
              "    </tr>\n",
              "    <tr>\n",
              "      <th>2015-08-31</th>\n",
              "      <td>22.272</td>\n",
              "      <td>22.129</td>\n",
              "    </tr>\n",
              "  </tbody>\n",
              "</table>\n",
              "<p>1258 rows × 2 columns</p>\n",
              "</div>"
            ],
            "text/plain": [
              "              open   close\n",
              "Date                      \n",
              "2020-08-27   6.520   6.480\n",
              "2020-08-26   6.620   6.480\n",
              "2020-08-25   6.650   6.590\n",
              "2020-08-24   6.350   6.630\n",
              "2020-08-21   6.250   6.310\n",
              "...            ...     ...\n",
              "2015-09-04  21.560  21.397\n",
              "2015-09-03  22.074  21.852\n",
              "2015-09-02  21.523  21.907\n",
              "2015-09-01  21.595  21.291\n",
              "2015-08-31  22.272  22.129\n",
              "\n",
              "[1258 rows x 2 columns]"
            ]
          },
          "metadata": {
            "tags": []
          },
          "execution_count": 13
        }
      ]
    },
    {
      "cell_type": "markdown",
      "metadata": {
        "id": "q2uj0ZNcvv3p",
        "colab_type": "text"
      },
      "source": [
        "Wycinanie wierszy"
      ]
    },
    {
      "cell_type": "code",
      "metadata": {
        "id": "n7fG7M4Mvx0K",
        "colab_type": "code",
        "colab": {
          "base_uri": "https://localhost:8080/",
          "height": 143
        },
        "outputId": "85583ca8-80eb-4b64-cd45-be93a619f8da"
      },
      "source": [
        "df.iloc[[0, 3],:] # wycinamy wiersz pierwszy oraz czwarty"
      ],
      "execution_count": null,
      "outputs": [
        {
          "output_type": "execute_result",
          "data": {
            "text/html": [
              "<div>\n",
              "<style scoped>\n",
              "    .dataframe tbody tr th:only-of-type {\n",
              "        vertical-align: middle;\n",
              "    }\n",
              "\n",
              "    .dataframe tbody tr th {\n",
              "        vertical-align: top;\n",
              "    }\n",
              "\n",
              "    .dataframe thead th {\n",
              "        text-align: right;\n",
              "    }\n",
              "</style>\n",
              "<table border=\"1\" class=\"dataframe\">\n",
              "  <thead>\n",
              "    <tr style=\"text-align: right;\">\n",
              "      <th></th>\n",
              "      <th>open</th>\n",
              "      <th>high</th>\n",
              "      <th>low</th>\n",
              "      <th>close</th>\n",
              "      <th>volume</th>\n",
              "    </tr>\n",
              "    <tr>\n",
              "      <th>Date</th>\n",
              "      <th></th>\n",
              "      <th></th>\n",
              "      <th></th>\n",
              "      <th></th>\n",
              "      <th></th>\n",
              "    </tr>\n",
              "  </thead>\n",
              "  <tbody>\n",
              "    <tr>\n",
              "      <th>2020-08-27</th>\n",
              "      <td>6.52</td>\n",
              "      <td>6.63</td>\n",
              "      <td>6.45</td>\n",
              "      <td>6.48</td>\n",
              "      <td>73387919</td>\n",
              "    </tr>\n",
              "    <tr>\n",
              "      <th>2020-08-24</th>\n",
              "      <td>6.35</td>\n",
              "      <td>6.64</td>\n",
              "      <td>6.30</td>\n",
              "      <td>6.63</td>\n",
              "      <td>102785415</td>\n",
              "    </tr>\n",
              "  </tbody>\n",
              "</table>\n",
              "</div>"
            ],
            "text/plain": [
              "            open  high   low  close     volume\n",
              "Date                                          \n",
              "2020-08-27  6.52  6.63  6.45   6.48   73387919\n",
              "2020-08-24  6.35  6.64  6.30   6.63  102785415"
            ]
          },
          "metadata": {
            "tags": []
          },
          "execution_count": 17
        }
      ]
    },
    {
      "cell_type": "code",
      "metadata": {
        "id": "dQMb7fz-3FZ1",
        "colab_type": "code",
        "colab": {
          "base_uri": "https://localhost:8080/",
          "height": 238
        },
        "outputId": "03978cfc-ae4f-4450-8284-7d88eaf4c27b"
      },
      "source": [
        "df = df.sort_index() # sortowanie wartości\n",
        "df.head()"
      ],
      "execution_count": 18,
      "outputs": [
        {
          "output_type": "execute_result",
          "data": {
            "text/html": [
              "<div>\n",
              "<style scoped>\n",
              "    .dataframe tbody tr th:only-of-type {\n",
              "        vertical-align: middle;\n",
              "    }\n",
              "\n",
              "    .dataframe tbody tr th {\n",
              "        vertical-align: top;\n",
              "    }\n",
              "\n",
              "    .dataframe thead th {\n",
              "        text-align: right;\n",
              "    }\n",
              "</style>\n",
              "<table border=\"1\" class=\"dataframe\">\n",
              "  <thead>\n",
              "    <tr style=\"text-align: right;\">\n",
              "      <th></th>\n",
              "      <th>open</th>\n",
              "      <th>high</th>\n",
              "      <th>low</th>\n",
              "      <th>close</th>\n",
              "      <th>volume</th>\n",
              "    </tr>\n",
              "    <tr>\n",
              "      <th>Date</th>\n",
              "      <th></th>\n",
              "      <th></th>\n",
              "      <th></th>\n",
              "      <th></th>\n",
              "      <th></th>\n",
              "    </tr>\n",
              "  </thead>\n",
              "  <tbody>\n",
              "    <tr>\n",
              "      <th>2015-08-31</th>\n",
              "      <td>22.272</td>\n",
              "      <td>22.272</td>\n",
              "      <td>21.915</td>\n",
              "      <td>22.129</td>\n",
              "      <td>41506958</td>\n",
              "    </tr>\n",
              "    <tr>\n",
              "      <th>2015-09-01</th>\n",
              "      <td>21.595</td>\n",
              "      <td>21.717</td>\n",
              "      <td>21.113</td>\n",
              "      <td>21.291</td>\n",
              "      <td>73290061</td>\n",
              "    </tr>\n",
              "    <tr>\n",
              "      <th>2015-09-02</th>\n",
              "      <td>21.523</td>\n",
              "      <td>21.915</td>\n",
              "      <td>21.246</td>\n",
              "      <td>21.907</td>\n",
              "      <td>56619445</td>\n",
              "    </tr>\n",
              "    <tr>\n",
              "      <th>2015-09-03</th>\n",
              "      <td>22.074</td>\n",
              "      <td>22.244</td>\n",
              "      <td>21.746</td>\n",
              "      <td>21.852</td>\n",
              "      <td>37646287</td>\n",
              "    </tr>\n",
              "    <tr>\n",
              "      <th>2015-09-04</th>\n",
              "      <td>21.560</td>\n",
              "      <td>21.560</td>\n",
              "      <td>21.265</td>\n",
              "      <td>21.397</td>\n",
              "      <td>39960825</td>\n",
              "    </tr>\n",
              "  </tbody>\n",
              "</table>\n",
              "</div>"
            ],
            "text/plain": [
              "              open    high     low   close    volume\n",
              "Date                                                \n",
              "2015-08-31  22.272  22.272  21.915  22.129  41506958\n",
              "2015-09-01  21.595  21.717  21.113  21.291  73290061\n",
              "2015-09-02  21.523  21.915  21.246  21.907  56619445\n",
              "2015-09-03  22.074  22.244  21.746  21.852  37646287\n",
              "2015-09-04  21.560  21.560  21.265  21.397  39960825"
            ]
          },
          "metadata": {
            "tags": []
          },
          "execution_count": 18
        }
      ]
    },
    {
      "cell_type": "code",
      "metadata": {
        "id": "oeuLRrIn3J0e",
        "colab_type": "code",
        "colab": {
          "base_uri": "https://localhost:8080/",
          "height": 238
        },
        "outputId": "d05c3b36-e549-4a06-878c-e3de7dc6d5b4"
      },
      "source": [
        "df['close_shift'] = df[['close']].shift(1) #przesuwamy wiersze o jeden\n",
        "df.head()"
      ],
      "execution_count": 21,
      "outputs": [
        {
          "output_type": "execute_result",
          "data": {
            "text/html": [
              "<div>\n",
              "<style scoped>\n",
              "    .dataframe tbody tr th:only-of-type {\n",
              "        vertical-align: middle;\n",
              "    }\n",
              "\n",
              "    .dataframe tbody tr th {\n",
              "        vertical-align: top;\n",
              "    }\n",
              "\n",
              "    .dataframe thead th {\n",
              "        text-align: right;\n",
              "    }\n",
              "</style>\n",
              "<table border=\"1\" class=\"dataframe\">\n",
              "  <thead>\n",
              "    <tr style=\"text-align: right;\">\n",
              "      <th></th>\n",
              "      <th>open</th>\n",
              "      <th>high</th>\n",
              "      <th>low</th>\n",
              "      <th>close</th>\n",
              "      <th>volume</th>\n",
              "      <th>Daily_Change</th>\n",
              "      <th>close_shift</th>\n",
              "    </tr>\n",
              "    <tr>\n",
              "      <th>Date</th>\n",
              "      <th></th>\n",
              "      <th></th>\n",
              "      <th></th>\n",
              "      <th></th>\n",
              "      <th></th>\n",
              "      <th></th>\n",
              "      <th></th>\n",
              "    </tr>\n",
              "  </thead>\n",
              "  <tbody>\n",
              "    <tr>\n",
              "      <th>2015-08-31</th>\n",
              "      <td>22.272</td>\n",
              "      <td>22.272</td>\n",
              "      <td>21.915</td>\n",
              "      <td>22.129</td>\n",
              "      <td>41506958</td>\n",
              "      <td>NaN</td>\n",
              "      <td>NaN</td>\n",
              "    </tr>\n",
              "    <tr>\n",
              "      <th>2015-09-01</th>\n",
              "      <td>21.595</td>\n",
              "      <td>21.717</td>\n",
              "      <td>21.113</td>\n",
              "      <td>21.291</td>\n",
              "      <td>73290061</td>\n",
              "      <td>22.129</td>\n",
              "      <td>22.129</td>\n",
              "    </tr>\n",
              "    <tr>\n",
              "      <th>2015-09-02</th>\n",
              "      <td>21.523</td>\n",
              "      <td>21.915</td>\n",
              "      <td>21.246</td>\n",
              "      <td>21.907</td>\n",
              "      <td>56619445</td>\n",
              "      <td>21.291</td>\n",
              "      <td>21.291</td>\n",
              "    </tr>\n",
              "    <tr>\n",
              "      <th>2015-09-03</th>\n",
              "      <td>22.074</td>\n",
              "      <td>22.244</td>\n",
              "      <td>21.746</td>\n",
              "      <td>21.852</td>\n",
              "      <td>37646287</td>\n",
              "      <td>21.907</td>\n",
              "      <td>21.907</td>\n",
              "    </tr>\n",
              "    <tr>\n",
              "      <th>2015-09-04</th>\n",
              "      <td>21.560</td>\n",
              "      <td>21.560</td>\n",
              "      <td>21.265</td>\n",
              "      <td>21.397</td>\n",
              "      <td>39960825</td>\n",
              "      <td>21.852</td>\n",
              "      <td>21.852</td>\n",
              "    </tr>\n",
              "  </tbody>\n",
              "</table>\n",
              "</div>"
            ],
            "text/plain": [
              "              open    high     low   close    volume  Daily_Change  close_shift\n",
              "Date                                                                           \n",
              "2015-08-31  22.272  22.272  21.915  22.129  41506958           NaN          NaN\n",
              "2015-09-01  21.595  21.717  21.113  21.291  73290061        22.129       22.129\n",
              "2015-09-02  21.523  21.915  21.246  21.907  56619445        21.291       21.291\n",
              "2015-09-03  22.074  22.244  21.746  21.852  37646287        21.907       21.907\n",
              "2015-09-04  21.560  21.560  21.265  21.397  39960825        21.852       21.852"
            ]
          },
          "metadata": {
            "tags": []
          },
          "execution_count": 21
        }
      ]
    },
    {
      "cell_type": "code",
      "metadata": {
        "id": "k1Q7ThGk3ObB",
        "colab_type": "code",
        "colab": {
          "base_uri": "https://localhost:8080/",
          "height": 238
        },
        "outputId": "d9ffa72c-3637-4db0-9866-efea6db3b203"
      },
      "source": [
        "df['Daily_Change'] = df.close / df.close_shift -1 #dzienna zmiana procentowa\n",
        "df.head()"
      ],
      "execution_count": 22,
      "outputs": [
        {
          "output_type": "execute_result",
          "data": {
            "text/html": [
              "<div>\n",
              "<style scoped>\n",
              "    .dataframe tbody tr th:only-of-type {\n",
              "        vertical-align: middle;\n",
              "    }\n",
              "\n",
              "    .dataframe tbody tr th {\n",
              "        vertical-align: top;\n",
              "    }\n",
              "\n",
              "    .dataframe thead th {\n",
              "        text-align: right;\n",
              "    }\n",
              "</style>\n",
              "<table border=\"1\" class=\"dataframe\">\n",
              "  <thead>\n",
              "    <tr style=\"text-align: right;\">\n",
              "      <th></th>\n",
              "      <th>open</th>\n",
              "      <th>high</th>\n",
              "      <th>low</th>\n",
              "      <th>close</th>\n",
              "      <th>volume</th>\n",
              "      <th>Daily_Change</th>\n",
              "      <th>close_shift</th>\n",
              "    </tr>\n",
              "    <tr>\n",
              "      <th>Date</th>\n",
              "      <th></th>\n",
              "      <th></th>\n",
              "      <th></th>\n",
              "      <th></th>\n",
              "      <th></th>\n",
              "      <th></th>\n",
              "      <th></th>\n",
              "    </tr>\n",
              "  </thead>\n",
              "  <tbody>\n",
              "    <tr>\n",
              "      <th>2015-08-31</th>\n",
              "      <td>22.272</td>\n",
              "      <td>22.272</td>\n",
              "      <td>21.915</td>\n",
              "      <td>22.129</td>\n",
              "      <td>41506958</td>\n",
              "      <td>NaN</td>\n",
              "      <td>NaN</td>\n",
              "    </tr>\n",
              "    <tr>\n",
              "      <th>2015-09-01</th>\n",
              "      <td>21.595</td>\n",
              "      <td>21.717</td>\n",
              "      <td>21.113</td>\n",
              "      <td>21.291</td>\n",
              "      <td>73290061</td>\n",
              "      <td>-0.037869</td>\n",
              "      <td>22.129</td>\n",
              "    </tr>\n",
              "    <tr>\n",
              "      <th>2015-09-02</th>\n",
              "      <td>21.523</td>\n",
              "      <td>21.915</td>\n",
              "      <td>21.246</td>\n",
              "      <td>21.907</td>\n",
              "      <td>56619445</td>\n",
              "      <td>0.028932</td>\n",
              "      <td>21.291</td>\n",
              "    </tr>\n",
              "    <tr>\n",
              "      <th>2015-09-03</th>\n",
              "      <td>22.074</td>\n",
              "      <td>22.244</td>\n",
              "      <td>21.746</td>\n",
              "      <td>21.852</td>\n",
              "      <td>37646287</td>\n",
              "      <td>-0.002511</td>\n",
              "      <td>21.907</td>\n",
              "    </tr>\n",
              "    <tr>\n",
              "      <th>2015-09-04</th>\n",
              "      <td>21.560</td>\n",
              "      <td>21.560</td>\n",
              "      <td>21.265</td>\n",
              "      <td>21.397</td>\n",
              "      <td>39960825</td>\n",
              "      <td>-0.020822</td>\n",
              "      <td>21.852</td>\n",
              "    </tr>\n",
              "  </tbody>\n",
              "</table>\n",
              "</div>"
            ],
            "text/plain": [
              "              open    high     low   close    volume  Daily_Change  close_shift\n",
              "Date                                                                           \n",
              "2015-08-31  22.272  22.272  21.915  22.129  41506958           NaN          NaN\n",
              "2015-09-01  21.595  21.717  21.113  21.291  73290061     -0.037869       22.129\n",
              "2015-09-02  21.523  21.915  21.246  21.907  56619445      0.028932       21.291\n",
              "2015-09-03  22.074  22.244  21.746  21.852  37646287     -0.002511       21.907\n",
              "2015-09-04  21.560  21.560  21.265  21.397  39960825     -0.020822       21.852"
            ]
          },
          "metadata": {
            "tags": []
          },
          "execution_count": 22
        }
      ]
    },
    {
      "cell_type": "code",
      "metadata": {
        "id": "ZsnaNDSo4aY9",
        "colab_type": "code",
        "colab": {
          "base_uri": "https://localhost:8080/",
          "height": 34
        },
        "outputId": "61efea99-88b5-4c36-de82-bd6dd71e58ed"
      },
      "source": [
        "df.Daily_Change.min() # najwiekszy dzienny spadek"
      ],
      "execution_count": 23,
      "outputs": [
        {
          "output_type": "execute_result",
          "data": {
            "text/plain": [
              "-0.15159092648822425"
            ]
          },
          "metadata": {
            "tags": []
          },
          "execution_count": 23
        }
      ]
    },
    {
      "cell_type": "code",
      "metadata": {
        "id": "EzMDRtqo4c_b",
        "colab_type": "code",
        "colab": {
          "base_uri": "https://localhost:8080/",
          "height": 34
        },
        "outputId": "6e8dae56-c7c3-4f52-f910-ec3835fd45f3"
      },
      "source": [
        "df.Daily_Change.max() # najwiekszy dzienny wzrost"
      ],
      "execution_count": 24,
      "outputs": [
        {
          "output_type": "execute_result",
          "data": {
            "text/plain": [
              "0.14728974413611118"
            ]
          },
          "metadata": {
            "tags": []
          },
          "execution_count": 24
        }
      ]
    },
    {
      "cell_type": "code",
      "metadata": {
        "id": "CSX0O9q34fW5",
        "colab_type": "code",
        "colab": {
          "base_uri": "https://localhost:8080/",
          "height": 285
        },
        "outputId": "cf994237-f75c-429c-a8d3-9f93628a8ada"
      },
      "source": [
        "import seaborn as sns\n",
        "sns.set()\n",
        "\n",
        "df.Daily_Change.hist(bins=100)"
      ],
      "execution_count": 25,
      "outputs": [
        {
          "output_type": "execute_result",
          "data": {
            "text/plain": [
              "<matplotlib.axes._subplots.AxesSubplot at 0x7f5da2540438>"
            ]
          },
          "metadata": {
            "tags": []
          },
          "execution_count": 25
        },
        {
          "output_type": "display_data",
          "data": {
            "image/png": "[encoded data removed]",
            "text/plain": [
              "<Figure size 432x288 with 1 Axes>"
            ]
          },
          "metadata": {
            "tags": []
          }
        }
      ]
    },
    {
      "cell_type": "code",
      "metadata": {
        "id": "apIPz7934kYj",
        "colab_type": "code",
        "colab": {
          "base_uri": "https://localhost:8080/",
          "height": 293
        },
        "outputId": "9e3ce8c5-9620-4599-8427-0f80bb1a7ed4"
      },
      "source": [
        "df.close.plot()"
      ],
      "execution_count": 27,
      "outputs": [
        {
          "output_type": "execute_result",
          "data": {
            "text/plain": [
              "<matplotlib.axes._subplots.AxesSubplot at 0x7f5da23920f0>"
            ]
          },
          "metadata": {
            "tags": []
          },
          "execution_count": 27
        },
        {
          "output_type": "display_data",
          "data": {
            "image/png": "[encoded data removed]",
            "text/plain": [
              "<Figure size 432x288 with 1 Axes>"
            ]
          },
          "metadata": {
            "tags": []
          }
        }
      ]
    }
  ]
}