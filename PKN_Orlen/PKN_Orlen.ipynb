{
  "nbformat": 4,
  "nbformat_minor": 0,
  "metadata": {
    "colab": {
      "name": "PKN_Orlen.ipynb",
      "provenance": [],
      "authorship_tag": "ABX9TyNJHDhbrsYiBevR4QtB8s6f",
      "include_colab_link": true
    },
    "kernelspec": {
      "name": "python3",
      "display_name": "Python 3"
    }
  },
  "cells": [
    {
      "cell_type": "markdown",
      "metadata": {
        "id": "view-in-github",
        "colab_type": "text"
      },
      "source": [
        "<a href=\"https://colab.research.google.com/github/mietekdom/Data_Science_Cases/blob/master/PKN_Orlen/PKN_Orlen.ipynb\" target=\"_parent\"><img src=\"https://colab.research.google.com/assets/colab-badge.svg\" alt=\"Open In Colab\"/></a>"
      ]
    },
    {
      "cell_type": "code",
      "metadata": {
        "id": "DbFKpQI6dyxe",
        "outputId": "5f90aa6f-c86c-4103-dab3-188fd62865bb",
        "colab": {
          "base_uri": "https://localhost:8080/",
          "height": 35
        }
      },
      "source": [
        "import plotly\n",
        "plotly.__version__"
      ],
      "execution_count": 2,
      "outputs": [
        {
          "output_type": "execute_result",
          "data": {
            "application/vnd.google.colaboratory.intrinsic+json": {
              "type": "string"
            },
            "text/plain": [
              "'4.4.1'"
            ]
          },
          "metadata": {
            "tags": []
          },
          "execution_count": 2
        }
      ]
    },
    {
      "cell_type": "code",
      "metadata": {
        "id": "ebcBaFGrehhD"
      },
      "source": [
        "import plotly.express as px"
      ],
      "execution_count": 3,
      "outputs": []
    },
    {
      "cell_type": "code",
      "metadata": {
        "id": "Xwko3IOdekOG",
        "outputId": "ddcd6ad0-e5ef-4c5e-9ac0-282da7963a06",
        "colab": {
          "base_uri": "https://localhost:8080/",
          "height": 206
        }
      },
      "source": [
        "def fetch_financial_data(company='PKN.PL'): # Olren\n",
        "  import pandas_datareader.data as web\n",
        "  return web.DataReader(name=company, data_source='stooq')\n",
        "\n",
        "df = fetch_financial_data()\n",
        "df = df.reset_index()\n",
        "df.head()"
      ],
      "execution_count": 18,
      "outputs": [
        {
          "output_type": "execute_result",
          "data": {
            "text/html": [
              "<div>\n",
              "<style scoped>\n",
              "    .dataframe tbody tr th:only-of-type {\n",
              "        vertical-align: middle;\n",
              "    }\n",
              "\n",
              "    .dataframe tbody tr th {\n",
              "        vertical-align: top;\n",
              "    }\n",
              "\n",
              "    .dataframe thead th {\n",
              "        text-align: right;\n",
              "    }\n",
              "</style>\n",
              "<table border=\"1\" class=\"dataframe\">\n",
              "  <thead>\n",
              "    <tr style=\"text-align: right;\">\n",
              "      <th></th>\n",
              "      <th>Date</th>\n",
              "      <th>Open</th>\n",
              "      <th>High</th>\n",
              "      <th>Low</th>\n",
              "      <th>Close</th>\n",
              "      <th>Volume</th>\n",
              "    </tr>\n",
              "  </thead>\n",
              "  <tbody>\n",
              "    <tr>\n",
              "      <th>0</th>\n",
              "      <td>2020-10-20</td>\n",
              "      <td>42.60</td>\n",
              "      <td>43.08</td>\n",
              "      <td>41.44</td>\n",
              "      <td>42.45</td>\n",
              "      <td>867743</td>\n",
              "    </tr>\n",
              "    <tr>\n",
              "      <th>1</th>\n",
              "      <td>2020-10-19</td>\n",
              "      <td>42.93</td>\n",
              "      <td>43.40</td>\n",
              "      <td>42.28</td>\n",
              "      <td>42.64</td>\n",
              "      <td>1263641</td>\n",
              "    </tr>\n",
              "    <tr>\n",
              "      <th>2</th>\n",
              "      <td>2020-10-16</td>\n",
              "      <td>40.82</td>\n",
              "      <td>42.45</td>\n",
              "      <td>40.02</td>\n",
              "      <td>42.10</td>\n",
              "      <td>1213883</td>\n",
              "    </tr>\n",
              "    <tr>\n",
              "      <th>3</th>\n",
              "      <td>2020-10-15</td>\n",
              "      <td>42.80</td>\n",
              "      <td>42.95</td>\n",
              "      <td>40.76</td>\n",
              "      <td>40.80</td>\n",
              "      <td>1573861</td>\n",
              "    </tr>\n",
              "    <tr>\n",
              "      <th>4</th>\n",
              "      <td>2020-10-14</td>\n",
              "      <td>44.00</td>\n",
              "      <td>44.06</td>\n",
              "      <td>42.82</td>\n",
              "      <td>43.30</td>\n",
              "      <td>1779708</td>\n",
              "    </tr>\n",
              "  </tbody>\n",
              "</table>\n",
              "</div>"
            ],
            "text/plain": [
              "        Date   Open   High    Low  Close   Volume\n",
              "0 2020-10-20  42.60  43.08  41.44  42.45   867743\n",
              "1 2020-10-19  42.93  43.40  42.28  42.64  1263641\n",
              "2 2020-10-16  40.82  42.45  40.02  42.10  1213883\n",
              "3 2020-10-15  42.80  42.95  40.76  40.80  1573861\n",
              "4 2020-10-14  44.00  44.06  42.82  43.30  1779708"
            ]
          },
          "metadata": {
            "tags": []
          },
          "execution_count": 18
        }
      ]
    },
    {
      "cell_type": "code",
      "metadata": {
        "id": "igOyBI9ci7k3",
        "outputId": "8514614b-9ba3-4238-f99e-b4d225e37529",
        "colab": {
          "base_uri": "https://localhost:8080/",
          "height": 363
        }
      },
      "source": [
        "df.head(10)"
      ],
      "execution_count": 20,
      "outputs": [
        {
          "output_type": "execute_result",
          "data": {
            "text/html": [
              "<div>\n",
              "<style scoped>\n",
              "    .dataframe tbody tr th:only-of-type {\n",
              "        vertical-align: middle;\n",
              "    }\n",
              "\n",
              "    .dataframe tbody tr th {\n",
              "        vertical-align: top;\n",
              "    }\n",
              "\n",
              "    .dataframe thead th {\n",
              "        text-align: right;\n",
              "    }\n",
              "</style>\n",
              "<table border=\"1\" class=\"dataframe\">\n",
              "  <thead>\n",
              "    <tr style=\"text-align: right;\">\n",
              "      <th></th>\n",
              "      <th>Date</th>\n",
              "      <th>Open</th>\n",
              "      <th>High</th>\n",
              "      <th>Low</th>\n",
              "      <th>Close</th>\n",
              "      <th>Volume</th>\n",
              "    </tr>\n",
              "  </thead>\n",
              "  <tbody>\n",
              "    <tr>\n",
              "      <th>0</th>\n",
              "      <td>2020-10-20</td>\n",
              "      <td>42.60</td>\n",
              "      <td>43.08</td>\n",
              "      <td>41.44</td>\n",
              "      <td>42.45</td>\n",
              "      <td>867743</td>\n",
              "    </tr>\n",
              "    <tr>\n",
              "      <th>1</th>\n",
              "      <td>2020-10-19</td>\n",
              "      <td>42.93</td>\n",
              "      <td>43.40</td>\n",
              "      <td>42.28</td>\n",
              "      <td>42.64</td>\n",
              "      <td>1263641</td>\n",
              "    </tr>\n",
              "    <tr>\n",
              "      <th>2</th>\n",
              "      <td>2020-10-16</td>\n",
              "      <td>40.82</td>\n",
              "      <td>42.45</td>\n",
              "      <td>40.02</td>\n",
              "      <td>42.10</td>\n",
              "      <td>1213883</td>\n",
              "    </tr>\n",
              "    <tr>\n",
              "      <th>3</th>\n",
              "      <td>2020-10-15</td>\n",
              "      <td>42.80</td>\n",
              "      <td>42.95</td>\n",
              "      <td>40.76</td>\n",
              "      <td>40.80</td>\n",
              "      <td>1573861</td>\n",
              "    </tr>\n",
              "    <tr>\n",
              "      <th>4</th>\n",
              "      <td>2020-10-14</td>\n",
              "      <td>44.00</td>\n",
              "      <td>44.06</td>\n",
              "      <td>42.82</td>\n",
              "      <td>43.30</td>\n",
              "      <td>1779708</td>\n",
              "    </tr>\n",
              "    <tr>\n",
              "      <th>5</th>\n",
              "      <td>2020-10-13</td>\n",
              "      <td>44.72</td>\n",
              "      <td>45.00</td>\n",
              "      <td>43.16</td>\n",
              "      <td>43.94</td>\n",
              "      <td>1420674</td>\n",
              "    </tr>\n",
              "    <tr>\n",
              "      <th>6</th>\n",
              "      <td>2020-10-12</td>\n",
              "      <td>45.98</td>\n",
              "      <td>46.18</td>\n",
              "      <td>44.58</td>\n",
              "      <td>44.70</td>\n",
              "      <td>1148098</td>\n",
              "    </tr>\n",
              "    <tr>\n",
              "      <th>7</th>\n",
              "      <td>2020-10-09</td>\n",
              "      <td>46.40</td>\n",
              "      <td>46.40</td>\n",
              "      <td>44.93</td>\n",
              "      <td>45.83</td>\n",
              "      <td>1252860</td>\n",
              "    </tr>\n",
              "    <tr>\n",
              "      <th>8</th>\n",
              "      <td>2020-10-08</td>\n",
              "      <td>46.92</td>\n",
              "      <td>46.95</td>\n",
              "      <td>45.97</td>\n",
              "      <td>46.66</td>\n",
              "      <td>829313</td>\n",
              "    </tr>\n",
              "    <tr>\n",
              "      <th>9</th>\n",
              "      <td>2020-10-07</td>\n",
              "      <td>46.76</td>\n",
              "      <td>46.87</td>\n",
              "      <td>46.15</td>\n",
              "      <td>46.76</td>\n",
              "      <td>678914</td>\n",
              "    </tr>\n",
              "  </tbody>\n",
              "</table>\n",
              "</div>"
            ],
            "text/plain": [
              "        Date   Open   High    Low  Close   Volume\n",
              "0 2020-10-20  42.60  43.08  41.44  42.45   867743\n",
              "1 2020-10-19  42.93  43.40  42.28  42.64  1263641\n",
              "2 2020-10-16  40.82  42.45  40.02  42.10  1213883\n",
              "3 2020-10-15  42.80  42.95  40.76  40.80  1573861\n",
              "4 2020-10-14  44.00  44.06  42.82  43.30  1779708\n",
              "5 2020-10-13  44.72  45.00  43.16  43.94  1420674\n",
              "6 2020-10-12  45.98  46.18  44.58  44.70  1148098\n",
              "7 2020-10-09  46.40  46.40  44.93  45.83  1252860\n",
              "8 2020-10-08  46.92  46.95  45.97  46.66   829313\n",
              "9 2020-10-07  46.76  46.87  46.15  46.76   678914"
            ]
          },
          "metadata": {
            "tags": []
          },
          "execution_count": 20
        }
      ]
    },
    {
      "cell_type": "code",
      "metadata": {
        "id": "NeR4jmHRjASo",
        "outputId": "97697e22-d56f-4b0c-9dbc-04f8e99ca27e",
        "colab": {
          "base_uri": "https://localhost:8080/",
          "height": 243
        }
      },
      "source": [
        "df.info()"
      ],
      "execution_count": 21,
      "outputs": [
        {
          "output_type": "stream",
          "text": [
            "<class 'pandas.core.frame.DataFrame'>\n",
            "RangeIndex: 1247 entries, 0 to 1246\n",
            "Data columns (total 6 columns):\n",
            " #   Column  Non-Null Count  Dtype         \n",
            "---  ------  --------------  -----         \n",
            " 0   Date    1247 non-null   datetime64[ns]\n",
            " 1   Open    1247 non-null   float64       \n",
            " 2   High    1247 non-null   float64       \n",
            " 3   Low     1247 non-null   float64       \n",
            " 4   Close   1247 non-null   float64       \n",
            " 5   Volume  1247 non-null   int64         \n",
            "dtypes: datetime64[ns](1), float64(4), int64(1)\n",
            "memory usage: 58.6 KB\n"
          ],
          "name": "stdout"
        }
      ]
    },
    {
      "cell_type": "code",
      "metadata": {
        "id": "jQdaVxvQjWm6"
      },
      "source": [
        ""
      ],
      "execution_count": null,
      "outputs": []
    }
  ]
}