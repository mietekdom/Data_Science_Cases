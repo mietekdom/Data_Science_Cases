{
  "nbformat": 4,
  "nbformat_minor": 0,
  "metadata": {
    "colab": {
      "name": "PKN_Orlen.ipynb",
      "provenance": [],
      "authorship_tag": "ABX9TyP5ovNVZTic0CAQC/mGU3Mm",
      "include_colab_link": true
    },
    "kernelspec": {
      "name": "python3",
      "display_name": "Python 3"
    }
  },
  "cells": [
    {
      "cell_type": "markdown",
      "metadata": {
        "id": "view-in-github",
        "colab_type": "text"
      },
      "source": [
        "<a href=\"https://colab.research.google.com/github/mietekdom/Data_Science_Cases/blob/master/PKN_Orlen/PKN_Orlen.ipynb\" target=\"_parent\"><img src=\"https://colab.research.google.com/assets/colab-badge.svg\" alt=\"Open In Colab\"/></a>"
      ]
    },
    {
      "cell_type": "code",
      "metadata": {
        "id": "DbFKpQI6dyxe",
        "outputId": "5f90aa6f-c86c-4103-dab3-188fd62865bb",
        "colab": {
          "base_uri": "https://localhost:8080/",
          "height": 35
        }
      },
      "source": [
        "import plotly\n",
        "plotly.__version__"
      ],
      "execution_count": 2,
      "outputs": [
        {
          "output_type": "execute_result",
          "data": {
            "application/vnd.google.colaboratory.intrinsic+json": {
              "type": "string"
            },
            "text/plain": [
              "'4.4.1'"
            ]
          },
          "metadata": {
            "tags": []
          },
          "execution_count": 2
        }
      ]
    },
    {
      "cell_type": "code",
      "metadata": {
        "id": "ebcBaFGrehhD"
      },
      "source": [
        "import plotly.express as px"
      ],
      "execution_count": 3,
      "outputs": []
    },
    {
      "cell_type": "code",
      "metadata": {
        "id": "Xwko3IOdekOG",
        "outputId": "ddcd6ad0-e5ef-4c5e-9ac0-282da7963a06",
        "colab": {
          "base_uri": "https://localhost:8080/",
          "height": 206
        }
      },
      "source": [
        "def fetch_financial_data(company='PKN.PL'): # Olren\n",
        "  import pandas_datareader.data as web\n",
        "  return web.DataReader(name=company, data_source='stooq')\n",
        "\n",
        "df = fetch_financial_data()\n",
        "df = df.reset_index()\n",
        "df.head()"
      ],
      "execution_count": 18,
      "outputs": [
        {
          "output_type": "execute_result",
          "data": {
            "text/html": [
              "<div>\n",
              "<style scoped>\n",
              "    .dataframe tbody tr th:only-of-type {\n",
              "        vertical-align: middle;\n",
              "    }\n",
              "\n",
              "    .dataframe tbody tr th {\n",
              "        vertical-align: top;\n",
              "    }\n",
              "\n",
              "    .dataframe thead th {\n",
              "        text-align: right;\n",
              "    }\n",
              "</style>\n",
              "<table border=\"1\" class=\"dataframe\">\n",
              "  <thead>\n",
              "    <tr style=\"text-align: right;\">\n",
              "      <th></th>\n",
              "      <th>Date</th>\n",
              "      <th>Open</th>\n",
              "      <th>High</th>\n",
              "      <th>Low</th>\n",
              "      <th>Close</th>\n",
              "      <th>Volume</th>\n",
              "    </tr>\n",
              "  </thead>\n",
              "  <tbody>\n",
              "    <tr>\n",
              "      <th>0</th>\n",
              "      <td>2020-10-20</td>\n",
              "      <td>42.60</td>\n",
              "      <td>43.08</td>\n",
              "      <td>41.44</td>\n",
              "      <td>42.45</td>\n",
              "      <td>867743</td>\n",
              "    </tr>\n",
              "    <tr>\n",
              "      <th>1</th>\n",
              "      <td>2020-10-19</td>\n",
              "      <td>42.93</td>\n",
              "      <td>43.40</td>\n",
              "      <td>42.28</td>\n",
              "      <td>42.64</td>\n",
              "      <td>1263641</td>\n",
              "    </tr>\n",
              "    <tr>\n",
              "      <th>2</th>\n",
              "      <td>2020-10-16</td>\n",
              "      <td>40.82</td>\n",
              "      <td>42.45</td>\n",
              "      <td>40.02</td>\n",
              "      <td>42.10</td>\n",
              "      <td>1213883</td>\n",
              "    </tr>\n",
              "    <tr>\n",
              "      <th>3</th>\n",
              "      <td>2020-10-15</td>\n",
              "      <td>42.80</td>\n",
              "      <td>42.95</td>\n",
              "      <td>40.76</td>\n",
              "      <td>40.80</td>\n",
              "      <td>1573861</td>\n",
              "    </tr>\n",
              "    <tr>\n",
              "      <th>4</th>\n",
              "      <td>2020-10-14</td>\n",
              "      <td>44.00</td>\n",
              "      <td>44.06</td>\n",
              "      <td>42.82</td>\n",
              "      <td>43.30</td>\n",
              "      <td>1779708</td>\n",
              "    </tr>\n",
              "  </tbody>\n",
              "</table>\n",
              "</div>"
            ],
            "text/plain": [
              "        Date   Open   High    Low  Close   Volume\n",
              "0 2020-10-20  42.60  43.08  41.44  42.45   867743\n",
              "1 2020-10-19  42.93  43.40  42.28  42.64  1263641\n",
              "2 2020-10-16  40.82  42.45  40.02  42.10  1213883\n",
              "3 2020-10-15  42.80  42.95  40.76  40.80  1573861\n",
              "4 2020-10-14  44.00  44.06  42.82  43.30  1779708"
            ]
          },
          "metadata": {
            "tags": []
          },
          "execution_count": 18
        }
      ]
    }
  ]
}